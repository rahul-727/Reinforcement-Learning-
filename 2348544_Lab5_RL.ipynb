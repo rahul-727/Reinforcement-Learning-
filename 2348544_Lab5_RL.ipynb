{
  "nbformat": 4,
  "nbformat_minor": 0,
  "metadata": {
    "colab": {
      "provenance": [],
      "authorship_tag": "ABX9TyO84Q61pG+07W1rheNHFUSk",
      "include_colab_link": true
    },
    "kernelspec": {
      "name": "python3",
      "display_name": "Python 3"
    },
    "language_info": {
      "name": "python"
    }
  },
  "cells": [
    {
      "cell_type": "markdown",
      "metadata": {
        "id": "view-in-github",
        "colab_type": "text"
      },
      "source": [
        "<a href=\"https://colab.research.google.com/github/rahul-727/Reinforcement-Learning-/blob/main/2348544_Lab5_RL.ipynb\" target=\"_parent\"><img src=\"https://colab.research.google.com/assets/colab-badge.svg\" alt=\"Open In Colab\"/></a>"
      ]
    },
    {
      "cell_type": "markdown",
      "source": [
        "# Implement Model-Free Prediction & Control With Monte Carlo (MC)"
      ],
      "metadata": {
        "id": "SoflMwQFxpyF"
      }
    },
    {
      "cell_type": "markdown",
      "source": [
        "Monte Carlo Prediction\n",
        "The goal is to estimate the value function 𝑉(𝑠) for a given policy 𝜋\n",
        "\n",
        "Monte Carlo Control\n",
        "The goal is to optimize the policy by improving the action-value function Q(s,a) iteratively"
      ],
      "metadata": {
        "id": "-LJ96MTUxrgU"
      }
    },
    {
      "cell_type": "code",
      "execution_count": 1,
      "metadata": {
        "id": "Z6dYBXJ3xonf"
      },
      "outputs": [],
      "source": [
        "import numpy as np\n",
        "from collections import defaultdict\n",
        "import gym"
      ]
    },
    {
      "cell_type": "markdown",
      "source": [
        "Monte-carlo prediction"
      ],
      "metadata": {
        "id": "jEpgRgIIyDA4"
      }
    },
    {
      "cell_type": "markdown",
      "source": [
        "Goal: Learn how good it is to be in a certain state when following a specific policy.\n",
        "\n",
        "* Imagine playing a game (like Blackjack) over and over while following a certain strategy (policy).\n",
        "* Every time you reach a state (e.g., your current cards in Blackjack), you note down the eventual total reward you get by the end of the game.\n",
        "* After enough games, you take the average of all these total rewards for each state.\n",
        "*This average becomes your estimate of how valuable that state is (called V(s)) when using that strategy.\n",
        "Think of it as keeping track of \"how good\" each state is by observing what happens when you visit it many times."
      ],
      "metadata": {
        "id": "OcFMrBCJyyy_"
      }
    },
    {
      "cell_type": "code",
      "source": [
        "# Monte Carlo Prediction\n",
        "def mc_prediction(policy, env, num_episodes, gamma=1.0):\n",
        "    V = defaultdict(float)\n",
        "    returns = defaultdict(list)\n",
        "\n",
        "    for episode in range(num_episodes):\n",
        "        # Generate an episode\n",
        "        episode_data = []\n",
        "        state = env.reset()\n",
        "        done = False\n",
        "\n",
        "        while not done:\n",
        "            action = policy(state)\n",
        "            next_state, reward, done, _ = env.step(action)\n",
        "            episode_data.append((state, action, reward))\n",
        "            state = next_state\n",
        "\n",
        "        # Calculate returns\n",
        "        G = 0\n",
        "        for t in reversed(range(len(episode_data))):\n",
        "            state, _, reward = episode_data[t]\n",
        "            G = reward + gamma * G\n",
        "            if state not in [x[0] for x in episode_data[:t]]:\n",
        "                returns[state].append(G)\n",
        "                V[state] = np.mean(returns[state])\n",
        "\n",
        "    return V"
      ],
      "metadata": {
        "id": "OmMdMwmByAs3"
      },
      "execution_count": 2,
      "outputs": []
    },
    {
      "cell_type": "markdown",
      "source": [
        "Prediction: Helps estimate how good a situation is under a specific strategy. For example, \"If I have 15 in Blackjack, how likely am I to win?\""
      ],
      "metadata": {
        "id": "Ls1g2-jCzmZy"
      }
    },
    {
      "cell_type": "markdown",
      "source": [
        "Monte-Carlo control"
      ],
      "metadata": {
        "id": "KQdOv_kTyKgD"
      }
    },
    {
      "cell_type": "markdown",
      "source": [
        "Goal: Find the best strategy (policy) to play the game, so you win more often.\n",
        "How it works:\n",
        "* Instead of just tracking how good each state is, you now track how good each action is in each state. This is called Q(s,a), the action-value function.\n",
        "* At the start, you try actions randomly (this is called exploration).\n",
        "* Over time, you see which actions lead to the best outcomes and start choosing those actions more often (this is called exploitation).\n",
        "* To keep improving, you mix random actions (exploration) and smart actions (exploitation) using a method called epsilon-greedy: most of the time, you pick the best-known action, but sometimes you try something random to learn more.\n",
        "* After many games, the strategy becomes optimized because it picks the best actions based on what you’ve learned.\n",
        "* Think of this as learning the best way to play the game by trial and error over thousands of games."
      ],
      "metadata": {
        "id": "wneYS-vqzQfN"
      }
    },
    {
      "cell_type": "code",
      "source": [
        "def mc_control_epsilon_greedy(env, num_episodes, gamma=1.0, epsilon=0.1):\n",
        "    Q = defaultdict(lambda: np.zeros(env.action_space.n))\n",
        "    returns = defaultdict(list)\n",
        "\n",
        "    def epsilon_greedy_policy(state):\n",
        "        if np.random.rand() < epsilon:\n",
        "            return np.random.choice(env.action_space.n)  # Explore\n",
        "        return np.argmax(Q[state])  # Exploit\n",
        "\n",
        "    for episode in range(num_episodes):\n",
        "        # Generate an episode\n",
        "        episode_data = []\n",
        "        state = env.reset()\n",
        "        done = False\n",
        "\n",
        "        while not done:\n",
        "            action = epsilon_greedy_policy(state)\n",
        "            next_state, reward, done, _ = env.step(action)\n",
        "            episode_data.append((state, action, reward))\n",
        "            state = next_state\n",
        "\n",
        "        # Calculate returns\n",
        "        G = 0\n",
        "        for t in reversed(range(len(episode_data))):\n",
        "            state, action, reward = episode_data[t]\n",
        "            G = reward + gamma * G\n",
        "            if (state, action) not in [(x[0], x[1]) for x in episode_data[:t]]:\n",
        "                returns[(state, action)].append(G)\n",
        "                Q[state][action] = np.mean(returns[(state, action)])\n",
        "\n",
        "    # Derive the policy from Q\n",
        "    policy = {state: np.argmax(actions) for state, actions in Q.items()}\n",
        "    return Q, policy"
      ],
      "metadata": {
        "id": "Cf0xW12ZyHpe"
      },
      "execution_count": 3,
      "outputs": []
    },
    {
      "cell_type": "markdown",
      "source": [
        "Control: Helps you figure out the best strategy to win. For example, \"What should I do when I have 15 in Blackjack: hit or stand?\""
      ],
      "metadata": {
        "id": "FdMlcfJZzpOe"
      }
    },
    {
      "cell_type": "code",
      "source": [
        "if __name__ == \"__main__\":\n",
        "    env = gym.make(\"Blackjack-v1\")\n",
        "\n",
        "    # Random policy for prediction\n",
        "    def random_policy(state):\n",
        "        return np.random.choice(env.action_space.n)\n",
        "\n",
        "    # Prediction\n",
        "    V = mc_prediction(random_policy, env, num_episodes=50000)\n",
        "    print(\"State-Value Function (V):\", V)\n",
        "\n",
        "    # Control\n",
        "    Q, optimal_policy = mc_control_epsilon_greedy(env, num_episodes=50000)\n",
        "    print(\"Action-Value Function (Q):\", Q)\n",
        "    print(\"Optimal Policy:\", optimal_policy)"
      ],
      "metadata": {
        "colab": {
          "base_uri": "https://localhost:8080/"
        },
        "id": "ju1lyeieyR6A",
        "outputId": "a7004520-bab8-4524-d7c9-58103d9e34cb"
      },
      "execution_count": 4,
      "outputs": [
        {
          "output_type": "stream",
          "name": "stderr",
          "text": [
            "/usr/local/lib/python3.10/dist-packages/gym/core.py:317: DeprecationWarning: \u001b[33mWARN: Initializing wrapper in old step API which returns one bool instead of two. It is recommended to set `new_step_api=True` to use new step API. This will be the default behaviour in future.\u001b[0m\n",
            "  deprecation(\n",
            "/usr/local/lib/python3.10/dist-packages/gym/wrappers/step_api_compatibility.py:39: DeprecationWarning: \u001b[33mWARN: Initializing environment in old step API which returns one bool instead of two. It is recommended to set `new_step_api=True` to use new step API. This will be the default behaviour in future.\u001b[0m\n",
            "  deprecation(\n",
            "/usr/local/lib/python3.10/dist-packages/gym/utils/passive_env_checker.py:241: DeprecationWarning: `np.bool8` is a deprecated alias for `np.bool_`.  (Deprecated NumPy 1.24)\n",
            "  if not isinstance(terminated, (bool, np.bool8)):\n"
          ]
        },
        {
          "output_type": "stream",
          "name": "stdout",
          "text": [
            "State-Value Function (V): defaultdict(<class 'float'>, {(8, 6, False): -0.112, (20, 8, False): -0.14909090909090908, (10, 5, False): -0.17575757575757575, (17, 10, False): -0.6375252185608608, (8, 10, False): -0.598343685300207, (14, 8, False): -0.5617977528089888, (9, 7, False): -0.4236111111111111, (19, 10, False): -0.44646758922068464, (14, 10, False): -0.6254008980115459, (17, 8, False): -0.5202020202020202, (11, 2, False): -0.33783783783783783, (20, 10, False): -0.24585504500236854, (13, 7, False): -0.4528301886792453, (12, 8, False): -0.5865384615384616, (10, 8, False): -0.4146341463414634, (19, 9, False): -0.2808022922636103, (15, 10, False): -0.6510110893672537, (16, 10, False): -0.6521456436931079, (11, 10, False): -0.5656050955414013, (16, 10, True): -0.5285714285714286, (14, 7, False): -0.46437994722955145, (21, 7, True): 0.34285714285714286, (13, 8, False): -0.48157248157248156, (14, 1, False): -0.7985257985257985, (20, 1, False): -0.3908256880733945, (17, 3, False): -0.4597014925373134, (21, 2, True): 0.3466666666666667, (11, 4, False): -0.15151515151515152, (15, 3, False): -0.39156626506024095, (14, 3, False): -0.4318766066838046, (12, 3, False): -0.3781094527363184, (21, 10, True): 0.2532088681446908, (14, 10, True): -0.5317073170731708, (15, 8, False): -0.587012987012987, (16, 8, True): -0.5263157894736842, (18, 4, False): -0.35751295336787564, (6, 1, False): -0.7714285714285715, (19, 3, True): 0.0, (19, 6, False): -0.09635416666666667, (16, 7, False): -0.6225, (20, 7, True): 0.36231884057971014, (20, 5, False): -0.15019762845849802, (18, 1, False): -0.5628571428571428, (11, 1, False): -0.5769230769230769, (13, 10, True): -0.48214285714285715, (12, 10, False): -0.6074589127686473, (21, 3, False): -0.004672897196261682, (13, 3, False): -0.4646924829157175, (4, 10, False): -0.5194805194805194, (6, 10, False): -0.5405405405405406, (19, 2, False): -0.21301775147928995, (15, 2, False): -0.4228855721393035, (13, 2, False): -0.44019138755980863, (12, 5, False): -0.29802955665024633, (5, 10, False): -0.5220125786163522, (16, 1, False): -0.821917808219178, (19, 1, True): -0.39344262295081966, (9, 3, False): -0.23776223776223776, (17, 4, False): -0.3514285714285714, (12, 4, False): -0.37317073170731707, (16, 4, False): -0.391304347826087, (10, 3, False): -0.2677595628415301, (17, 5, True): 0.03278688524590164, (18, 10, False): -0.5130557515878617, (21, 6, False): -0.20408163265306123, (17, 6, False): -0.3641456582633053, (15, 4, False): -0.46264367816091956, (15, 1, False): -0.7446153846153846, (16, 3, False): -0.47297297297297297, (20, 3, True): 0.08064516129032258, (17, 5, False): -0.44505494505494503, (16, 9, False): -0.6430446194225722, (12, 9, False): -0.6365795724465558, (16, 6, False): -0.41968911917098445, (16, 5, False): -0.4479166666666667, (13, 5, False): -0.3317972350230415, (19, 5, True): 0.1724137931034483, (15, 5, False): -0.44038929440389296, (18, 8, False): -0.37283236994219654, (8, 4, False): -0.38317757009345793, (19, 7, False): -0.09912536443148688, (20, 3, False): -0.10687022900763359, (13, 10, False): -0.6703980099502488, (13, 6, False): -0.3318077803203661, (6, 6, False): -0.3225806451612903, (21, 10, False): -0.06608478802992519, (21, 1, True): 0.1794871794871795, (20, 2, True): 0.21621621621621623, (13, 4, False): -0.3518005540166205, (14, 4, False): -0.3394255874673629, (15, 6, False): -0.42670157068062825, (14, 6, False): -0.3256997455470738, (19, 8, False): -0.1323529411764706, (5, 8, False): -0.32, (19, 3, False): -0.2261904761904762, (9, 2, False): -0.3825503355704698, (18, 2, False): -0.3902439024390244, (17, 1, False): -0.7014084507042253, (11, 9, False): -0.4888888888888889, (13, 1, False): -0.6781914893617021, (21, 6, True): 0.4533898305084746, (18, 6, True): 0.029411764705882353, (7, 6, False): -0.16666666666666666, (15, 7, False): -0.6186666666666667, (20, 9, False): -0.11330935251798561, (15, 9, False): -0.6025641025641025, (19, 10, True): -0.3816793893129771, (18, 6, False): -0.23098591549295774, (19, 5, False): -0.3542319749216301, (11, 5, False): -0.2524752475247525, (7, 5, False): -0.42528735632183906, (17, 10, True): -0.4117647058823529, (18, 3, False): -0.3881401617250674, (13, 5, True): 0.10526315789473684, (20, 10, True): -0.16334661354581673, (17, 2, False): -0.4673913043478261, (7, 2, False): -0.44086021505376344, (12, 2, False): -0.44415584415584414, (11, 3, False): -0.3285024154589372, (17, 9, False): -0.5754985754985755, (17, 7, False): -0.42063492063492064, (19, 1, False): -0.5060606060606061, (14, 7, True): -0.21739130434782608, (21, 2, False): -0.047619047619047616, (10, 2, False): -0.38922155688622756, (19, 6, True): 0.2807017543859649, (13, 6, True): -0.14285714285714285, (9, 1, False): -0.6388888888888888, (20, 1, True): -0.20967741935483872, (18, 1, True): -0.3148148148148148, (14, 1, True): -0.6756756756756757, (11, 6, False): -0.16847826086956522, (21, 5, True): 0.41904761904761906, (10, 10, False): -0.5036179450072359, (14, 4, True): -0.26, (16, 2, False): -0.5425531914893617, (16, 8, False): -0.6258992805755396, (9, 10, False): -0.4780316344463972, (6, 2, False): -0.547945205479452, (18, 4, True): -0.05555555555555555, (21, 8, True): 0.35175879396984927, (9, 8, False): -0.3178294573643411, (20, 4, False): -0.03932584269662921, (19, 8, True): 0.21794871794871795, (9, 9, False): -0.5467625899280576, (6, 9, False): -0.48863636363636365, (17, 3, True): -0.5294117647058824, (21, 1, False): -0.105, (20, 5, True): 0.3620689655172414, (20, 9, True): 0.05970149253731343, (18, 8, True): -0.10638297872340426, (7, 4, False): -0.20454545454545456, (18, 3, True): 0.058823529411764705, (21, 7, False): -0.03608247422680412, (19, 9, True): 0.0, (19, 4, False): -0.17159763313609466, (17, 8, True): -0.3230769230769231, (21, 4, True): 0.2535211267605634, (7, 10, False): -0.6122994652406417, (8, 9, False): -0.4188034188034188, (18, 5, False): -0.3518005540166205, (11, 8, False): -0.4816753926701571, (13, 9, False): -0.5985748218527316, (21, 8, False): -0.05945945945945946, (14, 9, False): -0.612565445026178, (12, 4, True): -0.4166666666666667, (10, 1, False): -0.6287425149700598, (20, 7, False): -0.07228915662650602, (20, 6, False): -0.15173674588665448, (14, 5, False): -0.3520408163265306, (20, 8, True): 0.27692307692307694, (13, 8, True): -0.46808510638297873, (21, 9, False): -0.1308411214953271, (18, 9, False): -0.5015105740181269, (20, 6, True): 0.3181818181818182, (16, 9, True): -0.4915254237288136, (12, 7, False): -0.5326876513317191, (20, 2, False): -0.14909090909090908, (12, 6, False): -0.3511450381679389, (10, 7, False): -0.24571428571428572, (10, 6, False): -0.16201117318435754, (7, 8, False): -0.5, (12, 1, False): -0.6699507389162561, (17, 2, True): -0.27941176470588236, (10, 9, False): -0.52, (8, 8, False): -0.4722222222222222, (13, 7, True): -0.19047619047619047, (18, 9, True): -0.3384615384615385, (15, 2, True): -0.31666666666666665, (10, 4, False): -0.13609467455621302, (19, 7, True): 0.1935483870967742, (9, 6, False): -0.13138686131386862, (8, 1, False): -0.652542372881356, (14, 2, False): -0.41450777202072536, (8, 2, False): -0.4672131147540984, (12, 6, True): -0.04, (19, 2, True): 0.21818181818181817, (8, 3, False): -0.2845528455284553, (12, 8, True): -0.391304347826087, (18, 2, True): -0.15789473684210525, (12, 10, True): -0.5212765957446809, (18, 10, True): -0.45739910313901344, (21, 5, False): 0.015384615384615385, (21, 3, True): 0.335, (9, 4, False): -0.21333333333333335, (13, 3, True): -0.08695652173913043, (12, 3, True): -0.391304347826087, (16, 6, True): -0.04081632653061224, (21, 9, True): 0.19095477386934673, (6, 8, False): -0.41935483870967744, (7, 3, False): -0.3225806451612903, (9, 5, False): -0.2654320987654321, (20, 4, True): 0.2, (16, 1, True): -0.6530612244897959, (15, 1, True): -0.8163265306122449, (4, 8, False): -0.6190476190476191, (18, 7, False): -0.140625, (6, 5, False): -0.0821917808219178, (15, 10, True): -0.680628272251309, (14, 8, True): -0.5416666666666666, (7, 7, False): -0.2549019607843137, (15, 8, True): -0.2542372881355932, (15, 4, True): -0.25862068965517243, (6, 4, False): -0.26666666666666666, (19, 4, True): 0.09090909090909091, (16, 2, True): 0.0, (7, 9, False): -0.5656565656565656, (15, 5, True): -0.0851063829787234, (7, 1, False): -0.6375, (5, 4, False): -0.29411764705882354, (17, 1, True): -0.8043478260869565, (16, 5, True): -0.265625, (17, 6, True): -0.3448275862068966, (14, 5, True): -0.07017543859649122, (4, 1, False): -0.6190476190476191, (18, 7, True): 0.21428571428571427, (21, 4, False): 0.018072289156626505, (4, 2, False): -0.47368421052631576, (5, 2, False): -0.6744186046511628, (5, 7, False): -0.4222222222222222, (15, 3, True): -0.2564102564102564, (4, 5, False): -0.2608695652173913, (12, 1, True): -0.6333333333333333, (6, 3, False): -0.38666666666666666, (8, 7, False): -0.35344827586206895, (8, 5, False): -0.27927927927927926, (4, 9, False): -0.2727272727272727, (16, 3, True): -0.46, (17, 9, True): -0.5862068965517241, (4, 6, False): -0.07692307692307693, (5, 3, False): -0.28205128205128205, (11, 7, False): -0.4635416666666667, (4, 7, False): -0.3333333333333333, (13, 2, True): -0.2765957446808511, (5, 5, False): -0.22727272727272727, (15, 6, True): 0.0196078431372549, (17, 4, True): -0.4, (12, 5, True): 0.12, (14, 9, True): -0.2926829268292683, (14, 2, True): -0.4909090909090909, (5, 6, False): -0.018867924528301886, (13, 9, True): -0.2564102564102564, (15, 9, True): -0.6, (6, 7, False): -0.37681159420289856, (5, 9, False): -0.5, (18, 5, True): -0.03125, (13, 4, True): -0.41025641025641024, (4, 4, False): -0.4074074074074074, (16, 7, True): -0.4576271186440678, (17, 7, True): -0.39622641509433965, (14, 3, True): -0.0851063829787234, (16, 4, True): -0.1702127659574468, (14, 6, True): -0.02127659574468085, (5, 1, False): -0.4358974358974359, (13, 1, True): -0.7647058823529411, (12, 2, True): 0.14285714285714285, (4, 3, False): -0.42857142857142855, (12, 7, True): -0.17391304347826086, (15, 7, True): -0.5555555555555556, (12, 9, True): -0.9285714285714286})\n",
            "Action-Value Function (Q): defaultdict(<function mc_control_epsilon_greedy.<locals>.<lambda> at 0x7ce6e00be320>, {(13, 3, False): array([-0.32249322, -0.44      ]), (6, 9, False): array([-0.50819672, -0.5       ]), (17, 4, False): array([-0.02915452, -0.86666667]), (20, 2, False): array([ 0.65392781, -0.80952381]), (19, 2, False): array([ 0.50830565, -0.41176471]), (20, 10, False): array([ 0.42379863, -0.81355932]), (19, 9, False): array([ 0.32398754, -0.33333333]), (7, 2, False): array([-0.6       , -0.10891089]), (13, 8, False): array([-0.69230769, -0.28498728]), (15, 6, False): array([-0.1800554 , -0.41176471]), (21, 8, True): array([0.97905759, 0.3       ]), (17, 10, False): array([-0.4567757 , -0.59756098]), (16, 2, False): array([-0.48466258, -0.45098039]), (16, 7, False): array([-0.46086957, -0.47058824]), (15, 10, False): array([-0.57206538, -0.55710956]), (12, 3, False): array([-0.28365385, -0.7       ]), (12, 6, False): array([-0.5      , -0.1495098]), (11, 1, False): array([-0.48148148, -0.06145251]), (20, 9, False): array([ 0.76346154, -0.92      ]), (12, 5, False): array([-0.38181818, -0.18130312]), (20, 3, False): array([ 0.62589928, -0.45454545]), (16, 10, False): array([-0.64086687, -0.62706044]), (7, 10, False): array([-0.72881356, -0.4044586 ]), (14, 7, False): array([-0.5078534 , -0.37967914]), (20, 4, False): array([ 0.66896552, -0.92857143]), (18, 2, False): array([ 0.14041096, -0.58823529]), (19, 6, False): array([ 0.59386973, -1.        ]), (10, 10, False): array([-0.55882353, -0.0859375 ]), (12, 10, False): array([-0.625     , -0.47313797]), (13, 1, False): array([-0.81666667, -0.53169014]), (13, 5, True): array([-0.26315789, -1.        ]), (13, 2, False): array([-0.33908046, -0.61290323]), (10, 3, False): array([-0.11111111,  0.14465409]), (11, 5, False): array([-0.81818182,  0.23783784]), (12, 2, False): array([-0.2611465 , -0.25514403]), (16, 4, False): array([-0.22580645, -0.5       ]), (12, 9, True): array([-0.5       , -0.05882353]), (15, 9, False): array([-0.5412844 , -0.57017544]), (4, 1, False): array([-0.84615385, -1.        ]), (18, 3, False): array([ 0.17490494, -0.57142857]), (13, 10, False): array([-0.57407407, -0.47016275]), (20, 6, False): array([ 0.75496689, -0.87096774]), (7, 9, False): array([-0.35483871, -0.1875    ]), (11, 7, False): array([-0.39393939,  0.12087912]), (15, 8, True): array([-0.63636364,  0.05769231]), (16, 9, False): array([-0.53846154, -0.51685393]), (5, 10, False): array([-0.6       , -0.34319527]), (15, 9, True): array([-0.5       , -0.11111111]), (15, 8, False): array([-0.46987952, -0.39647577]), (17, 8, False): array([-0.35928144, -0.375     ]), (20, 10, True): array([ 0.42490842, -0.11764706]), (19, 10, False): array([-0.01280323, -0.88372093]), (19, 10, True): array([-0.08727273, -0.23529412]), (11, 8, False): array([-0.75      ,  0.21538462]), (21, 8, False): array([ 0.91489362, -1.        ]), (9, 9, False): array([-0.33333333, -0.20143885]), (17, 1, False): array([-0.66666667, -0.79333333]), (19, 3, True): array([0.27777778, 0.23809524]), (18, 1, False): array([-0.2915601 , -0.79310345]), (15, 4, False): array([-0.22493225, -0.38461538]), (17, 5, True): array([0.03846154, 0.        ]), (19, 8, False): array([ 0.5443787, -0.6      ]), (11, 10, False): array([-0.59183673, -0.0244798 ]), (14, 2, True): array([0.        , 0.13333333]), (18, 7, False): array([ 0.36      , -0.45454545]), (10, 5, False): array([-0.125     ,  0.14814815]), (12, 5, True): array([-1.        ,  0.40909091]), (14, 5, False): array([-0.41463415, -0.33994334]), (7, 4, False): array([-0.33333333,  0.1097561 ]), (10, 4, False): array([0.        , 0.24840764]), (14, 10, False): array([-0.63461538, -0.48394912]), (17, 6, False): array([-0.01818182, -0.51612903]), (15, 2, False): array([-0.25316456, -0.36585366]), (19, 7, False): array([ 0.55873016, -0.5       ]), (6, 10, False): array([-0.6       , -0.41328413]), (5, 5, False): array([-0.24137931, -0.30434783]), (19, 4, False): array([ 0.43824701, -0.8       ]), (13, 2, True): array([-0.11764706, -0.33333333]), (14, 8, False): array([-0.5       , -0.54545455]), (17, 9, False): array([-0.46, -0.5 ]), (9, 5, False): array([-0.57142857,  0.05755396]), (17, 2, False): array([-0.13772455, -0.77777778]), (12, 7, False): array([-0.48594378, -0.26923077]), (12, 1, False): array([-0.80821918, -0.48310811]), (18, 5, False): array([ 0.12605042, -0.88235294]), (5, 8, False): array([-0.3 , -0.75]), (10, 7, False): array([-0.2       ,  0.15333333]), (13, 10, True): array([-0.71428571, -0.1734104 ]), (12, 9, False): array([-0.46153846, -0.38405797]), (20, 5, False): array([ 0.67940552, -0.84      ]), (14, 2, False): array([-0.25885559, -0.44      ]), (14, 1, False): array([-0.78531073, -0.94444444]), (21, 2, True): array([0.98969072, 0.08333333]), (21, 3, True): array([0.99004975, 0.45454545]), (10, 2, False): array([-0.6       ,  0.13812155]), (17, 7, False): array([-0.14330218, -0.35294118]), (6, 6, False): array([-0.25      ,  0.04285714]), (14, 4, False): array([-0.19893899, -0.37037037]), (21, 10, False): array([ 0.86683417, -1.        ]), (20, 8, True): array([0.64179104, 0.57142857]), (19, 1, False): array([-0.15428571, -0.8       ]), (18, 6, False): array([ 0.28025478, -0.88235294]), (21, 4, False): array([ 0.953125, -1.      ]), (21, 1, True): array([0.65853659, 0.        ]), (10, 9, False): array([-0.72727273,  0.01503759]), (13, 9, False): array([-0.57142857, -0.3241206 ]), (16, 1, False): array([-0.91111111, -0.60064935]), (19, 4, True): array([ 0.46268657, -0.33333333]), (12, 3, True): array([-1.        ,  0.05555556]), (21, 6, False): array([ 0.94174757, -1.        ]), (20, 6, True): array([ 0.74074074, -1.        ]), (18, 10, False): array([-0.23694779, -0.51898734]), (15, 10, True): array([-0.61904762, -0.22105263]), (13, 6, False): array([-0.13486005, -0.18965517]), (13, 7, False): array([-0.55357143, -0.31178707]), (14, 6, False): array([-0.08982036, -0.24      ]), (19, 5, False): array([ 0.43613707, -0.77777778]), (18, 8, False): array([ 0.15099715, -0.77777778]), (16, 3, False): array([-0.32673267, -0.58823529]), (14, 10, True): array([-0.56682028, -0.66666667]), (11, 9, False): array([-0.81818182,  0.09139785]), (13, 4, False): array([-0.14285714, -0.37275986]), (17, 4, True): array([0.03571429, 0.        ]), (16, 6, True): array([-0.18644068, -0.6       ]), (18, 3, True): array([-0.14285714,  0.02040816]), (7, 8, False): array([-0.63809524, -1.        ]), (16, 5, False): array([-0.13469388, -0.37113402]), (9, 10, False): array([-0.63157895, -0.31643357]), (16, 10, True): array([-0.7037037 , -0.26455026]), (21, 9, True): array([ 0.98930481, -0.27272727]), (9, 1, False): array([-0.8       , -0.44354839]), (17, 10, True): array([-0.55932203, -0.25641026]), (16, 8, False): array([-0.49710983, -0.61111111]), (15, 1, True): array([-0.82857143, -0.46153846]), (13, 5, False): array([-0.18592965, -0.14285714]), (14, 9, False): array([-0.6       , -0.35638298]), (20, 8, False): array([ 0.79752066, -0.92      ]), (8, 5, False): array([-0.11111111, -0.01020408]), (21, 10, True): array([0.91400491, 0.18421053]), (15, 7, False): array([-0.49360614, -0.48387097]), (15, 1, False): array([-0.92592593, -0.69491525]), (6, 2, False): array([-0.2238806, -1.       ]), (19, 2, True): array([0.37662338, 0.33333333]), (14, 4, True): array([-0.375     ,  0.20930233]), (15, 5, False): array([-0.06068602, -0.77777778]), (11, 4, False): array([-0.09497207, -0.5       ]), (16, 7, True): array([-0.6, -1. ]), (9, 3, False): array([-0.25925926, -0.08      ]), (21, 7, False): array([ 0.96907216, -1.        ]), (12, 8, False): array([-0.375     , -0.23138298]), (8, 3, False): array([-0.57142857, -0.15294118]), (19, 3, False): array([ 0.3057554 , -0.33333333]), (21, 4, True): array([0.97159091, 0.35714286]), (21, 5, False): array([ 0.84615385, -1.        ]), (21, 5, True): array([ 0.96808511, -0.2       ]), (16, 6, False): array([-0.20348837, -0.5       ]), (18, 1, True): array([-1.        , -0.36111111]), (15, 7, True): array([-0.63636364, -0.06451613]), (20, 7, False): array([ 0.74606742, -0.90909091]), (7, 6, False): array([-0.2244898,  0.       ]), (17, 5, False): array([-0.05144695, -0.46153846]), (18, 4, False): array([ 0.27666667, -1.        ]), (8, 4, False): array([-0.23076923,  0.14782609]), (9, 8, False): array([-0.81818182,  0.0890411 ]), (21, 9, False): array([ 0.92893401, -1.        ]), (12, 4, False): array([-0.4375    , -0.24745763]), (9, 4, False): array([-0.6       ,  0.19745223]), (10, 1, False): array([-0.73333333, -0.34337349]), (18, 10, True): array([-0.23287671, -0.41176471]), (11, 6, False): array([0.        , 0.31460674]), (14, 3, False): array([-0.30218069, -0.88888889]), (8, 1, False): array([-1.        , -0.36190476]), (5, 7, False): array([-1.        , -0.31707317]), (17, 3, False): array([-0.6       , -0.52734375]), (20, 1, True): array([-0.42857143, -0.37254902]), (7, 1, False): array([-0.72972973, -0.42105263]), (20, 2, True): array([ 0.54929577, -1.        ]), (18, 7, True): array([ 0.44186047, -0.21428571]), (17, 7, True): array([-0.14      , -0.33333333]), (5, 9, False): array([-0.6       , -0.21052632]), (11, 3, False): array([-0.24242424, -0.1294964 ]), (16, 9, True): array([-0.2173913, -0.025    ]), (15, 3, True): array([-0.10638298, -0.66666667]), (7, 7, False): array([-0.40740741, -0.2125    ]), (19, 1, True): array([-0.07843137, -0.5       ]), (21, 6, True): array([0.97849462, 0.5       ]), (13, 1, True): array([-0.61290323, -0.3125    ]), (13, 7, True): array([-0.44186047, -1.        ]), (20, 1, False): array([ 0.13232104, -0.8442623 ]), (19, 9, True): array([0.19047619, 0.        ]), (21, 1, False): array([ 0.56647399, -1.        ]), (21, 7, True): array([1.        , 0.14285714]), (18, 9, True): array([-0.25      , -0.16923077]), (8, 7, False): array([-0.69230769, -0.10679612]), (20, 5, True): array([0.61538462, 0.33333333]), (15, 3, False): array([-0.29677419, -0.42857143]), (16, 2, True): array([-0.34328358, -1.        ]), (17, 2, True): array([-1.        ,  0.06666667]), (19, 8, True): array([0.53333333, 0.16666667]), (6, 8, False): array([-0.80645161, -0.2972973 ]), (20, 7, True): array([0.71186441, 0.33333333]), (13, 4, True): array([-0.05882353, -1.        ]), (8, 6, False): array([-0.22033898,  0.1147541 ]), (7, 3, False): array([-0.04878049, -0.42857143]), (6, 7, False): array([-0.35211268, -1.        ]), (20, 9, True): array([0.68852459, 0.        ]), (20, 3, True): array([0.68085106, 0.14285714]), (15, 2, True): array([-1.        , -0.06976744]), (8, 9, False): array([-0.42465753, -0.11764706]), (18, 4, True): array([0.24324324, 0.2       ]), (12, 8, True): array([0.        , 0.09090909]), (9, 2, False): array([-0.5       ,  0.23300971]), (8, 2, False): array([-0.16981132, -0.42857143]), (17, 1, True): array([-0.56097561, -1.        ]), (18, 9, False): array([-0.1910828 , -0.62337662]), (8, 10, False): array([-0.56937799, -0.3372549 ]), (10, 6, False): array([-0.27272727,  0.21637427]), (18, 2, True): array([0.        , 0.02898551]), (6, 3, False): array([-0.33333333, -0.5       ]), (14, 3, True): array([-0.09433962, -1.        ]), (17, 6, True): array([ 0.10714286, -1.        ]), (17, 8, True): array([-0.40384615, -0.22222222]), (5, 4, False): array([-0.20689655, -0.33333333]), (10, 8, False): array([-0.51515152,  0.28571429]), (14, 7, True): array([-0.5       , -0.19148936]), (9, 6, False): array([-0.26984127, -0.6       ]), (15, 6, True): array([-0.13888889, -1.        ]), (12, 2, True): array([-0.5,  0. ]), (16, 3, True): array([-0.2       ,  0.05714286]), (13, 9, True): array([-0.625     , -0.27586207]), (16, 5, True): array([-0.15789474, -1.        ]), (6, 4, False): array([-0.5   , -0.1125]), (5, 6, False): array([-0.14285714,  0.35294118]), (12, 10, True): array([-0.6       , -0.01204819]), (20, 4, True): array([0.73239437, 0.        ]), (4, 9, False): array([-1.        , -0.17391304]), (5, 1, False): array([-0.92307692, -0.61111111]), (11, 2, False): array([-0.29411765,  0.25      ]), (19, 5, True): array([0.19230769, 0.21875   ]), (14, 1, True): array([-0.86046512, -1.        ]), (8, 8, False): array([-0.44827586, -0.6       ]), (14, 6, True): array([-0.5       ,  0.23404255]), (12, 6, True): array([0.2       , 0.13636364]), (4, 10, False): array([-0.62962963, -0.3030303 ]), (13, 3, True): array([-1.        ,  0.05555556]), (6, 5, False): array([-0.33333333, -0.21568627]), (4, 3, False): array([ 0.12, -1.  ]), (19, 7, True): array([ 0.63461538, -0.2       ]), (17, 3, True): array([0.04166667, 0.        ]), (9, 7, False): array([-1.        ,  0.13084112]), (14, 8, True): array([0.        , 0.12244898]), (18, 6, True): array([-0.14285714,  0.12727273]), (13, 8, True): array([-1.        ,  0.17391304]), (21, 3, False): array([ 0.82278481, -1.        ]), (4, 8, False): array([-0.35714286, -1.        ]), (16, 4, True): array([-0.05660377, -0.25      ]), (13, 6, True): array([0.        , 0.02272727]), (15, 4, True): array([-0.625     ,  0.07142857]), (18, 5, True): array([0.20408163, 0.        ]), (5, 2, False): array([-1.,  0.]), (7, 5, False): array([-0.11111111, -0.5       ]), (14, 9, True): array([-0.33333333, -0.19047619]), (12, 1, True): array([-0.82608696, -1.        ]), (19, 6, True): array([-0.5       ,  0.23913043]), (6, 1, False): array([-0.72413793, -1.        ]), (5, 3, False): array([-0.34693878, -1.        ]), (14, 5, True): array([-0.625,  0.   ]), (4, 5, False): array([0.14285714, 0.        ]), (16, 8, True): array([-0.14285714,  0.075     ]), (18, 8, True): array([-0.1       ,  0.07936508]), (15, 5, True): array([-1.        , -0.08333333]), (17, 9, True): array([-0.22222222, -0.125     ]), (4, 6, False): array([-0.07142857, -1.        ]), (12, 4, True): array([-0.6 ,  0.12]), (12, 7, True): array([-1.        , -0.19047619]), (21, 2, False): array([ 0.85263158, -1.        ]), (4, 4, False): array([-0.625, -1.   ]), (4, 7, False): array([-0.5, -1. ]), (16, 1, True): array([-0.78947368, -1.        ]), (4, 2, False): array([-0.11111111, -1.        ])})\n",
            "Optimal Policy: {(13, 3, False): 0, (6, 9, False): 1, (17, 4, False): 0, (20, 2, False): 0, (19, 2, False): 0, (20, 10, False): 0, (19, 9, False): 0, (7, 2, False): 1, (13, 8, False): 1, (15, 6, False): 0, (21, 8, True): 0, (17, 10, False): 0, (16, 2, False): 1, (16, 7, False): 0, (15, 10, False): 1, (12, 3, False): 0, (12, 6, False): 1, (11, 1, False): 1, (20, 9, False): 0, (12, 5, False): 1, (20, 3, False): 0, (16, 10, False): 1, (7, 10, False): 1, (14, 7, False): 1, (20, 4, False): 0, (18, 2, False): 0, (19, 6, False): 0, (10, 10, False): 1, (12, 10, False): 1, (13, 1, False): 1, (13, 5, True): 0, (13, 2, False): 0, (10, 3, False): 1, (11, 5, False): 1, (12, 2, False): 1, (16, 4, False): 0, (12, 9, True): 1, (15, 9, False): 0, (4, 1, False): 0, (18, 3, False): 0, (13, 10, False): 1, (20, 6, False): 0, (7, 9, False): 1, (11, 7, False): 1, (15, 8, True): 1, (16, 9, False): 1, (5, 10, False): 1, (15, 9, True): 1, (15, 8, False): 1, (17, 8, False): 0, (20, 10, True): 0, (19, 10, False): 0, (19, 10, True): 0, (11, 8, False): 1, (21, 8, False): 0, (9, 9, False): 1, (17, 1, False): 0, (19, 3, True): 0, (18, 1, False): 0, (15, 4, False): 0, (17, 5, True): 0, (19, 8, False): 0, (11, 10, False): 1, (14, 2, True): 1, (18, 7, False): 0, (10, 5, False): 1, (12, 5, True): 1, (14, 5, False): 1, (7, 4, False): 1, (10, 4, False): 1, (14, 10, False): 1, (17, 6, False): 0, (15, 2, False): 0, (19, 7, False): 0, (6, 10, False): 1, (5, 5, False): 0, (19, 4, False): 0, (13, 2, True): 0, (14, 8, False): 0, (17, 9, False): 0, (9, 5, False): 1, (17, 2, False): 0, (12, 7, False): 1, (12, 1, False): 1, (18, 5, False): 0, (5, 8, False): 0, (10, 7, False): 1, (13, 10, True): 1, (12, 9, False): 1, (20, 5, False): 0, (14, 2, False): 0, (14, 1, False): 0, (21, 2, True): 0, (21, 3, True): 0, (10, 2, False): 1, (17, 7, False): 0, (6, 6, False): 1, (14, 4, False): 0, (21, 10, False): 0, (20, 8, True): 0, (19, 1, False): 0, (18, 6, False): 0, (21, 4, False): 0, (21, 1, True): 0, (10, 9, False): 1, (13, 9, False): 1, (16, 1, False): 1, (19, 4, True): 0, (12, 3, True): 1, (21, 6, False): 0, (20, 6, True): 0, (18, 10, False): 0, (15, 10, True): 1, (13, 6, False): 0, (13, 7, False): 1, (14, 6, False): 0, (19, 5, False): 0, (18, 8, False): 0, (16, 3, False): 0, (14, 10, True): 0, (11, 9, False): 1, (13, 4, False): 0, (17, 4, True): 0, (16, 6, True): 0, (18, 3, True): 1, (7, 8, False): 0, (16, 5, False): 0, (9, 10, False): 1, (16, 10, True): 1, (21, 9, True): 0, (9, 1, False): 1, (17, 10, True): 1, (16, 8, False): 0, (15, 1, True): 1, (13, 5, False): 1, (14, 9, False): 1, (20, 8, False): 0, (8, 5, False): 1, (21, 10, True): 0, (15, 7, False): 1, (15, 1, False): 1, (6, 2, False): 0, (19, 2, True): 0, (14, 4, True): 1, (15, 5, False): 0, (11, 4, False): 0, (16, 7, True): 0, (9, 3, False): 1, (21, 7, False): 0, (12, 8, False): 1, (8, 3, False): 1, (19, 3, False): 0, (21, 4, True): 0, (21, 5, False): 0, (21, 5, True): 0, (16, 6, False): 0, (18, 1, True): 1, (15, 7, True): 1, (20, 7, False): 0, (7, 6, False): 1, (17, 5, False): 0, (18, 4, False): 0, (8, 4, False): 1, (9, 8, False): 1, (21, 9, False): 0, (12, 4, False): 1, (9, 4, False): 1, (10, 1, False): 1, (18, 10, True): 0, (11, 6, False): 1, (14, 3, False): 0, (8, 1, False): 1, (5, 7, False): 1, (17, 3, False): 1, (20, 1, True): 1, (7, 1, False): 1, (20, 2, True): 0, (18, 7, True): 0, (17, 7, True): 0, (5, 9, False): 1, (11, 3, False): 1, (16, 9, True): 1, (15, 3, True): 0, (7, 7, False): 1, (19, 1, True): 0, (21, 6, True): 0, (13, 1, True): 1, (13, 7, True): 0, (20, 1, False): 0, (19, 9, True): 0, (21, 1, False): 0, (21, 7, True): 0, (18, 9, True): 1, (8, 7, False): 1, (20, 5, True): 0, (15, 3, False): 0, (16, 2, True): 0, (17, 2, True): 1, (19, 8, True): 0, (6, 8, False): 1, (20, 7, True): 0, (13, 4, True): 0, (8, 6, False): 1, (7, 3, False): 0, (6, 7, False): 0, (20, 9, True): 0, (20, 3, True): 0, (15, 2, True): 1, (8, 9, False): 1, (18, 4, True): 0, (12, 8, True): 1, (9, 2, False): 1, (8, 2, False): 0, (17, 1, True): 0, (18, 9, False): 0, (8, 10, False): 1, (10, 6, False): 1, (18, 2, True): 1, (6, 3, False): 0, (14, 3, True): 0, (17, 6, True): 0, (17, 8, True): 1, (5, 4, False): 0, (10, 8, False): 1, (14, 7, True): 1, (9, 6, False): 0, (15, 6, True): 0, (12, 2, True): 1, (16, 3, True): 1, (13, 9, True): 1, (16, 5, True): 0, (6, 4, False): 1, (5, 6, False): 1, (12, 10, True): 1, (20, 4, True): 0, (4, 9, False): 1, (5, 1, False): 1, (11, 2, False): 1, (19, 5, True): 1, (14, 1, True): 0, (8, 8, False): 0, (14, 6, True): 1, (12, 6, True): 0, (4, 10, False): 1, (13, 3, True): 1, (6, 5, False): 1, (4, 3, False): 0, (19, 7, True): 0, (17, 3, True): 0, (9, 7, False): 1, (14, 8, True): 1, (18, 6, True): 1, (13, 8, True): 1, (21, 3, False): 0, (4, 8, False): 0, (16, 4, True): 0, (13, 6, True): 1, (15, 4, True): 1, (18, 5, True): 0, (5, 2, False): 1, (7, 5, False): 0, (14, 9, True): 1, (12, 1, True): 0, (19, 6, True): 1, (6, 1, False): 0, (5, 3, False): 0, (14, 5, True): 1, (4, 5, False): 0, (16, 8, True): 1, (18, 8, True): 1, (15, 5, True): 1, (17, 9, True): 1, (4, 6, False): 0, (12, 4, True): 1, (12, 7, True): 1, (21, 2, False): 0, (4, 4, False): 0, (4, 7, False): 0, (16, 1, True): 0, (4, 2, False): 0}\n"
          ]
        }
      ]
    }
  ]
}