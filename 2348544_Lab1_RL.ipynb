{
  "nbformat": 4,
  "nbformat_minor": 0,
  "metadata": {
    "colab": {
      "provenance": [],
      "authorship_tag": "ABX9TyM0zYewXWYmi+lheAvCmR10",
      "include_colab_link": true
    },
    "kernelspec": {
      "name": "python3",
      "display_name": "Python 3"
    },
    "language_info": {
      "name": "python"
    }
  },
  "cells": [
    {
      "cell_type": "markdown",
      "metadata": {
        "id": "view-in-github",
        "colab_type": "text"
      },
      "source": [
        "<a href=\"https://colab.research.google.com/github/rahul-727/Reinforcement-Learning-/blob/main/2348544_Lab1_RL.ipynb\" target=\"_parent\"><img src=\"https://colab.research.google.com/assets/colab-badge.svg\" alt=\"Open In Colab\"/></a>"
      ]
    },
    {
      "cell_type": "markdown",
      "source": [
        "Step 1: Define the Problem\n",
        "We have four ad slots:\n",
        "\n",
        "Top Banner\n",
        "Sidebar\n",
        "Footer\n",
        "Pop-up\n",
        "The goal is to maximize the number of clicks. We do not know the click-through rates (CTRs) of each slot initially, so we need to explore each option while also exploiting the best-performing slot.\n",
        "\n",
        "Step 2: Set Up the Epsilon-Greedy Algorithm\n",
        "We will use the epsilon-greedy strategy:\n",
        "\n",
        "Exploit (90% of the time): Choose the ad slot with the highest estimated CTR.\n",
        "Explore (10% of the time): Randomly choose any ad slot.\n",
        "We'll simulate the clicks based on some unknown true CTRs for each slot, which will be randomly generated for our experiment.\n",
        "\n",
        "Step 3: Run the Simulation\n",
        "For each impression:\n",
        "\n",
        "Select an ad slot using the epsilon-greedy algorithm.\n",
        "Simulate showing the ad and record whether the user clicked on it.\n",
        "Update the estimated CTR for that slot based on the observed outcome."
      ],
      "metadata": {
        "id": "7iWI2eLHa-xg"
      }
    },
    {
      "cell_type": "code",
      "execution_count": 19,
      "metadata": {
        "id": "Ycx8Y1KMRyOF"
      },
      "outputs": [],
      "source": [
        "import numpy as np\n",
        "import matplotlib.pyplot as plt"
      ]
    },
    {
      "cell_type": "markdown",
      "source": [
        "# Define the problem"
      ],
      "metadata": {
        "id": "xWXtFEpTSIBz"
      }
    },
    {
      "cell_type": "code",
      "source": [
        "class MultiArmedBanditEpsilonGreedy:\n",
        "    def __init__(self, n_arms, epsilon=0.1):\n",
        "        self.n_arms = n_arms  # Number of arms (ad slots)\n",
        "        self.epsilon = epsilon  # Exploration rate (10% exploration)\n",
        "        # True click-through rates for each ad slot (unknown to the agent)\n",
        "        self.true_ctrs = np.random.rand(n_arms)\n",
        "        # Estimated click-through rates (what the agent learns over time)\n",
        "        self.estimates = np.zeros(n_arms)\n",
        "        # Number of times each ad slot has been selected\n",
        "        self.counts = np.zeros(n_arms)\n",
        "        self.total_clicks = 0  # Total clicks observed\n",
        "\n",
        "    def select_arm(self):\n",
        "        \"\"\"Select an arm (ad slot) using the epsilon-greedy strategy.\"\"\"\n",
        "        if np.random.rand() < self.epsilon:\n",
        "            # Explore: randomly select an arm\n",
        "            return np.random.randint(self.n_arms)\n",
        "        else:\n",
        "            # Exploit: select the arm with the highest estimated CTR\n",
        "            return np.argmax(self.estimates)\n",
        "\n",
        "    def pull_arm(self, arm):\n",
        "        \"\"\"Simulate pulling an arm (showing an ad). Returns 1 for a click, 0 for no click.\"\"\"\n",
        "        return 1 if np.random.rand() < self.true_ctrs[arm] else 0\n",
        "\n",
        "    def update_estimates(self, arm, reward):\n",
        "        \"\"\"Update the estimated CTR for the selected arm.\"\"\"\n",
        "        self.counts[arm] += 1\n",
        "        self.total_clicks += reward\n",
        "        # Update the estimate using the running average formula\n",
        "        self.estimates[arm] += (reward - self.estimates[arm]) / self.counts[arm]"
      ],
      "metadata": {
        "id": "xyONil9lR8VS"
      },
      "execution_count": 20,
      "outputs": []
    },
    {
      "cell_type": "markdown",
      "source": [
        "# Simulation of the Epsilon-greedy algorithm\n"
      ],
      "metadata": {
        "id": "KEPls9xpWuAX"
      }
    },
    {
      "cell_type": "code",
      "source": [
        "def epsilon_greedy_strategy(bandit, n_rounds):\n",
        "    total_reward = 0\n",
        "    rewards = []\n",
        "    arm_pulls = np.zeros(bandit.n_arms)\n",
        "\n",
        "    for _ in range(n_rounds):\n",
        "        # Select an arm (ad slot)\n",
        "        arm = bandit.select_arm()\n",
        "        # Pull the arm (show the ad) and observe the result (click or no click)\n",
        "        reward = bandit.pull_arm(arm)\n",
        "        # Update the estimated CTR for the selected arm\n",
        "        bandit.update_estimates(arm, reward)\n",
        "        # Update total reward and arm pull counts\n",
        "        total_reward += reward\n",
        "        rewards.append(total_reward)\n",
        "        arm_pulls[arm] += 1\n",
        "\n",
        "    return rewards, arm_pulls"
      ],
      "metadata": {
        "id": "-fYeM8IeWozW"
      },
      "execution_count": 21,
      "outputs": []
    },
    {
      "cell_type": "markdown",
      "source": [
        "# Run Simulation"
      ],
      "metadata": {
        "id": "0EUNOTWQYoa1"
      }
    },
    {
      "cell_type": "code",
      "source": [
        "n_arms = 4  # Four ad slots\n",
        "n_rounds = 1000  # Simulate 1000 impressions (rounds)\n",
        "\n",
        "bandit = MultiArmedBanditEpsilonGreedy(n_arms, epsilon=0.1)\n",
        "rewards, arm_pulls = epsilon_greedy_strategy(bandit, n_rounds)"
      ],
      "metadata": {
        "id": "MsQDeBn6YquL"
      },
      "execution_count": 22,
      "outputs": []
    },
    {
      "cell_type": "code",
      "source": [
        "# Plot the number of times each ad slot was selected\n",
        "plt.figure(figsize=(12, 6))\n",
        "plt.bar(range(n_arms), arm_pulls, color='skyblue')\n",
        "plt.xlabel('Ad Slot Index')\n",
        "plt.ylabel('Number of Selections')\n",
        "plt.title('Number of Times Each Ad Slot was Selected (Epsilon-Greedy Strategy)')\n",
        "plt.xticks(range(n_arms), ['Top Banner', 'Sidebar', 'Footer', 'Pop-up'])\n",
        "plt.grid(True)\n",
        "plt.show()"
      ],
      "metadata": {
        "colab": {
          "base_uri": "https://localhost:8080/",
          "height": 564
        },
        "id": "HMVLEmxqZ61V",
        "outputId": "8183fc3d-d290-4e29-893b-eb7891291b08"
      },
      "execution_count": 24,
      "outputs": [
        {
          "output_type": "display_data",
          "data": {
            "text/plain": [
              "<Figure size 1200x600 with 1 Axes>"
            ],
            "image/png": "[encoded data removed]"
          },
          "metadata": {}
        }
      ]
    },
    {
      "cell_type": "code",
      "source": [
        "# Print the true CTRs and learned CTRs for comparison\n",
        "print(\"True CTRs: \", bandit.true_ctrs)\n",
        "print(\"Estimated CTRs: \", bandit.estimates)"
      ],
      "metadata": {
        "colab": {
          "base_uri": "https://localhost:8080/",
          "height": 0
        },
        "id": "iRMbFfuJZ8bi",
        "outputId": "03db8ab3-b76a-45d7-f687-cfc5f720389f"
      },
      "execution_count": 25,
      "outputs": [
        {
          "output_type": "stream",
          "name": "stdout",
          "text": [
            "True CTRs:  [0.70500222 0.59491641 0.15408351 0.76429795]\n",
            "Estimated CTRs:  [0.68333333 0.53333333 0.17391304 0.75760992]\n"
          ]
        }
      ]
    },
    {
      "cell_type": "markdown",
      "source": [
        "True CTRs: [0.70500222, 0.59491641, 0.15408351, 0.76429795]\n",
        "These are the real (but hidden) probabilities that a user will click on an ad in each slot.\n",
        "\n",
        "Estimated CTRs: [0.68333333, 0.53333333, 0.17391304, 0.75760992]\n",
        "These are the probabilities that the algorithm has learned based on its observations.\n",
        "\n",
        "Slot 4 (Pop-up):\n",
        "True CTR: 0.764\n",
        "Estimated CTR: 0.757\n",
        "The algorithm did a good job of accurately estimating the highest-performing slot, showing effective exploitation over time.\n",
        "\n",
        "Slot 1 (Top Banner):\n",
        "True CTR: 0.705\n",
        "Estimated CTR: 0.683\n",
        "This is also quite close to the true CTR, showing that the algorithm explored enough to capture its potential.\n",
        "\n",
        "Slot 2 (Sidebar):\n",
        "True CTR: 0.594\n",
        "Estimated CTR: 0.533\n",
        "This is slightly underestimated, but still reasonable. The algorithm likely explored this option but prioritized slots with higher initial performance.\n",
        "\n",
        "Slot 3 (Footer):\n",
        "True CTR: 0.154\n",
        "Estimated CTR: 0.173\n",
        "The algorithm correctly identified this as a low-performing slot and did not prioritize it often, leading to accurate estimation."
      ],
      "metadata": {
        "id": "2EYiBoCEbYPr"
      }
    },
    {
      "cell_type": "code",
      "source": [],
      "metadata": {
        "id": "dLKWP3Cltd_3"
      },
      "execution_count": null,
      "outputs": []
    }
  ]
}